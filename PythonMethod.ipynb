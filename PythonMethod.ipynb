{
 "cells": [
  {
   "cell_type": "code",
   "execution_count": 3,
   "metadata": {},
   "outputs": [
    {
     "data": {
      "text/plain": [
       "3"
      ]
     },
     "execution_count": 3,
     "metadata": {},
     "output_type": "execute_result"
    }
   ],
   "source": [
    "#len method\n",
    "\n",
    "len(\"tomato\")\n",
    "len([1,2,3])\n",
    "\n",
    "#len(3)\n",
    "#len(2.1)\n",
    "#len(True)"
   ]
  },
  {
   "cell_type": "code",
   "execution_count": 6,
   "metadata": {},
   "outputs": [
    {
     "name": "stdout",
     "output_type": "stream",
     "text": [
      "6\n",
      "5\n"
     ]
    }
   ],
   "source": [
    "vege = \"potato\"\n",
    "n = [4,5,6,7,8]\n",
    "\n",
    "print(len(vege))\n",
    "print(len(n))"
   ]
  },
  {
   "cell_type": "code",
   "execution_count": 9,
   "metadata": {},
   "outputs": [
    {
     "name": "stdout",
     "output_type": "stream",
     "text": [
      "['a', 'b', 'c', 'd', 'e', 'f']\n"
     ]
    }
   ],
   "source": [
    "#append method\n",
    "\n",
    "alphabet = ['a', 'b', 'c', 'd', 'e']\n",
    "alphabet.append(\"f\")\n",
    "print(alphabet)"
   ]
  },
  {
   "cell_type": "code",
   "execution_count": 12,
   "metadata": {},
   "outputs": [
    {
     "name": "stdout",
     "output_type": "stream",
     "text": [
      "[1, 2, 3, 4, 6]\n",
      "[1, 2, 4, 6, 3]\n",
      "[1, 2, 3, 4, 6]\n"
     ]
    }
   ],
   "source": [
    "#sorted / sort method\n",
    "\n",
    "number = [1,2,4,6,3]\n",
    "print(sorted(number))\n",
    "print(number)\n",
    "\n",
    "number.sort()\n",
    "print(number)"
   ]
  },
  {
   "cell_type": "code",
   "execution_count": 15,
   "metadata": {},
   "outputs": [
    {
     "name": "stdout",
     "output_type": "stream",
     "text": [
      "['b', 'a', 'e', 'c', 'd']\n",
      "['a', 'b', 'c', 'd', 'e']\n"
     ]
    }
   ],
   "source": [
    "alphabet = [\"b\", \"a\", \"e\", \"c\", \"d\"]\n",
    "sorted(alphabet)\n",
    "print(alphabet)\n",
    "\n",
    "alphabet = [\"b\", \"a\", \"e\", \"c\", \"d\"]\n",
    "alphabet.sort()\n",
    "print(alphabet)"
   ]
  },
  {
   "cell_type": "code",
   "execution_count": 18,
   "metadata": {},
   "outputs": [
    {
     "name": "stdout",
     "output_type": "stream",
     "text": [
      "TOKYO\n",
      "2\n"
     ]
    }
   ],
   "source": [
    "#upper&count method\n",
    "\n",
    "city = \"Tokyo\"\n",
    "print(city.upper())\n",
    "print(city.count(\"o\"))"
   ]
  },
  {
   "cell_type": "code",
   "execution_count": 20,
   "metadata": {},
   "outputs": [
    {
     "name": "stdout",
     "output_type": "stream",
     "text": [
      "elephant\n",
      "ELEPHANT\n",
      "2\n"
     ]
    }
   ],
   "source": [
    "animal = \"elephant\"\n",
    "animal_big = animal.upper()\n",
    "\n",
    "print(animal)\n",
    "print(animal_big)\n",
    "print(animal.count(\"e\"))"
   ]
  },
  {
   "cell_type": "code",
   "execution_count": 28,
   "metadata": {},
   "outputs": [
    {
     "name": "stdout",
     "output_type": "stream",
     "text": [
      "I was born in Daegu and raised in Seoul.\n",
      "banana is yellow\n"
     ]
    }
   ],
   "source": [
    "#format method\n",
    "\n",
    "print(\"I was born in {} and raised in {}.\".format(\"Daegu\", \"Seoul\"))\n",
    "\n",
    "fruit = \"banana\"\n",
    "color = \"yellow\"\n",
    "print(\"{} is {}\".format(fruit, color))"
   ]
  },
  {
   "cell_type": "code",
   "execution_count": 30,
   "metadata": {},
   "outputs": [
    {
     "name": "stdout",
     "output_type": "stream",
     "text": [
      "0\n",
      "2\n"
     ]
    }
   ],
   "source": [
    "#index method\n",
    "\n",
    "alphabet = [\"a\", \"b\", \"c\", \"d\", \"d\"]\n",
    "print(alphabet.index(\"a\"))\n",
    "print(alphabet.count(\"d\"))"
   ]
  },
  {
   "cell_type": "code",
   "execution_count": 32,
   "metadata": {},
   "outputs": [
    {
     "name": "stdout",
     "output_type": "stream",
     "text": [
      "5\n",
      "3\n"
     ]
    }
   ],
   "source": [
    "n = [3, 6, 8, 6, 3, 2, 4, 6]\n",
    "\n",
    "print(n.index(2))\n",
    "print(n.count(6))"
   ]
  },
  {
   "cell_type": "code",
   "execution_count": 34,
   "metadata": {},
   "outputs": [
    {
     "name": "stdout",
     "output_type": "stream",
     "text": [
      "['마', '라', '다', '나', '가']\n"
     ]
    }
   ],
   "source": [
    "#reverse() method\n",
    "\n",
    "list = [\"가\", \"나\", \"다\", \"라\", \"마\"]\n",
    "list.reverse()\n",
    "print(list)"
   ]
  },
  {
   "cell_type": "code",
   "execution_count": 37,
   "metadata": {},
   "outputs": [
    {
     "name": "stdout",
     "output_type": "stream",
     "text": [
      "[2, 24, 26, 37, 53, 69]\n",
      "[69, 53, 37, 26, 24, 2]\n"
     ]
    }
   ],
   "source": [
    "n = [53, 26, 37, 69, 24, 2]\n",
    "\n",
    "n.sort()\n",
    "print(n)\n",
    "n.reverse()\n",
    "print(n)"
   ]
  },
  {
   "cell_type": "code",
   "execution_count": 40,
   "metadata": {},
   "outputs": [
    {
     "name": "stdout",
     "output_type": "stream",
     "text": [
      "Let's sing\n"
     ]
    }
   ],
   "source": [
    "#define method\n",
    "\n",
    "def sing():\n",
    "    print(\"Let's sing\")\n",
    "\n",
    "sing()"
   ]
  },
  {
   "cell_type": "code",
   "execution_count": 42,
   "metadata": {},
   "outputs": [
    {
     "name": "stdout",
     "output_type": "stream",
     "text": [
      "I'm Emily\n"
     ]
    }
   ],
   "source": [
    "def introduce():\n",
    "    print(\"I'm Emily\")\n",
    "\n",
    "introduce()"
   ]
  },
  {
   "cell_type": "code",
   "execution_count": 47,
   "metadata": {},
   "outputs": [
    {
     "name": "stdout",
     "output_type": "stream",
     "text": [
      "I'm John\n"
     ]
    }
   ],
   "source": [
    "#parameter\n",
    "\n",
    "def introduce(n):\n",
    "    print(\"I'm \" + n)\n",
    "\n",
    "introduce(\"John\")"
   ]
  },
  {
   "cell_type": "code",
   "execution_count": 49,
   "metadata": {},
   "outputs": [
    {
     "name": "stdout",
     "output_type": "stream",
     "text": [
      "512\n"
     ]
    }
   ],
   "source": [
    "def cube_cal(n):\n",
    "    print(n**3)\n",
    "\n",
    "cube_cal(8)"
   ]
  },
  {
   "cell_type": "code",
   "execution_count": 52,
   "metadata": {},
   "outputs": [
    {
     "name": "stdout",
     "output_type": "stream",
     "text": [
      "My first name is Emily and the second name is Dickinson\n"
     ]
    }
   ],
   "source": [
    "#initialization\n",
    "\n",
    "def introduce(first, second):\n",
    "    print(\"My first name is \" + first + \" and the second name is \" + second)\n",
    "    \n",
    "introduce(\"Emily\", \"Dickinson\")"
   ]
  },
  {
   "cell_type": "code",
   "execution_count": 55,
   "metadata": {},
   "outputs": [
    {
     "name": "stdout",
     "output_type": "stream",
     "text": [
      "My name is Yoon, 25 yrs old\n"
     ]
    }
   ],
   "source": [
    "def introduce(n, age):\n",
    "    print(\"My name is \" + n + \", \" + str(age) + \" yrs old\")\n",
    "\n",
    "introduce(\"Yoon\", 25)"
   ]
  },
  {
   "cell_type": "code",
   "execution_count": 57,
   "metadata": {},
   "outputs": [
    {
     "name": "stdout",
     "output_type": "stream",
     "text": [
      "YoonMinji\n"
     ]
    }
   ],
   "source": [
    "def introduce(first = \"Kim\", second = \"Minji\"):\n",
    "    print(first + second)\n",
    "\n",
    "introduce(\"Yoon\")"
   ]
  },
  {
   "cell_type": "code",
   "execution_count": 62,
   "metadata": {},
   "outputs": [
    {
     "name": "stdout",
     "output_type": "stream",
     "text": [
      "My name is Kim and 17years old\n"
     ]
    }
   ],
   "source": [
    "def introduce(age = 17, n = \"Kim\"):\n",
    "    print(\"My name is \" + n + \" and \" + str(age) + \"years old\")\n",
    "\n",
    "introduce()"
   ]
  },
  {
   "cell_type": "code",
   "execution_count": 3,
   "metadata": {},
   "outputs": [
    {
     "name": "stdout",
     "output_type": "stream",
     "text": [
      "First name : Hong, Second name : kildong\n"
     ]
    }
   ],
   "source": [
    "#return\n",
    "\n",
    "def introduce(first = \"Kim\", second = \"kildong\"):\n",
    "    comment = \"First name : \" + first + \", Second name : \" + second\n",
    "    return comment\n",
    "\n",
    "print(introduce(\"Hong\"))"
   ]
  },
  {
   "cell_type": "code",
   "execution_count": 5,
   "metadata": {},
   "outputs": [
    {
     "name": "stdout",
     "output_type": "stream",
     "text": [
      "23.875114784205696\n"
     ]
    }
   ],
   "source": [
    "def bmi(height, weight):\n",
    "    return weight / height**2\n",
    "\n",
    "print(bmi(1.65, 65))"
   ]
  },
  {
   "cell_type": "code",
   "execution_count": 7,
   "metadata": {},
   "outputs": [
    {
     "name": "stdout",
     "output_type": "stream",
     "text": [
      "1648124216.7465193\n"
     ]
    }
   ],
   "source": [
    "#import method\n",
    "\n",
    "import time\n",
    "\n",
    "now_time = time.time()\n",
    "\n",
    "print(now_time)"
   ]
  },
  {
   "cell_type": "code",
   "execution_count": 8,
   "metadata": {},
   "outputs": [
    {
     "name": "stdout",
     "output_type": "stream",
     "text": [
      "1648124236.0718489\n"
     ]
    }
   ],
   "source": [
    "from time import time\n",
    "\n",
    "now_time = time()\n",
    "\n",
    "print(now_time)"
   ]
  }
 ],
 "metadata": {
  "kernelspec": {
   "display_name": "Python 3",
   "language": "python",
   "name": "python3"
  },
  "language_info": {
   "codemirror_mode": {
    "name": "ipython",
    "version": 3
   },
   "file_extension": ".py",
   "mimetype": "text/x-python",
   "name": "python",
   "nbconvert_exporter": "python",
   "pygments_lexer": "ipython3",
   "version": "3.7.3"
  }
 },
 "nbformat": 4,
 "nbformat_minor": 2
}
