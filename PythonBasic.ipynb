{
 "cells": [
  {
   "cell_type": "code",
   "execution_count": 3,
   "metadata": {},
   "outputs": [
    {
     "name": "stdout",
     "output_type": "stream",
     "text": [
      "Hello World\n"
     ]
    }
   ],
   "source": [
    "print(\"Hello World\")"
   ]
  },
  {
   "cell_type": "code",
   "execution_count": 5,
   "metadata": {},
   "outputs": [
    {
     "name": "stdout",
     "output_type": "stream",
     "text": [
      "11\n"
     ]
    }
   ],
   "source": [
    "print(3+8)#3+8의 결과"
   ]
  },
  {
   "cell_type": "code",
   "execution_count": 7,
   "metadata": {},
   "outputs": [
    {
     "name": "stdout",
     "output_type": "stream",
     "text": [
      "11\n"
     ]
    }
   ],
   "source": [
    "#3+8의 결과\n",
    "print(3+8)"
   ]
  },
  {
   "cell_type": "code",
   "execution_count": 10,
   "metadata": {},
   "outputs": [
    {
     "name": "stdout",
     "output_type": "stream",
     "text": [
      "8\n"
     ]
    }
   ],
   "source": [
    "print(3+5)\n",
    "\n"
   ]
  },
  {
   "cell_type": "code",
   "execution_count": 12,
   "metadata": {},
   "outputs": [
    {
     "name": "stdout",
     "output_type": "stream",
     "text": [
      "-2\n",
      "15\n",
      "0.6\n",
      "3\n",
      "243\n"
     ]
    }
   ],
   "source": [
    "print(3-5)\n",
    "print(3*5)\n",
    "print(3/5)\n",
    "print(3%5)\n",
    "print(3**5)"
   ]
  },
  {
   "cell_type": "code",
   "execution_count": 14,
   "metadata": {},
   "outputs": [
    {
     "name": "stdout",
     "output_type": "stream",
     "text": [
      "강아지\n"
     ]
    }
   ],
   "source": [
    "n='강아지'\n",
    "print(n)"
   ]
  },
  {
   "cell_type": "code",
   "execution_count": 16,
   "metadata": {},
   "outputs": [
    {
     "name": "stdout",
     "output_type": "stream",
     "text": [
      "고양이\n"
     ]
    }
   ],
   "source": [
    "n='고양이'\n",
    "print(n)"
   ]
  },
  {
   "cell_type": "code",
   "execution_count": 18,
   "metadata": {},
   "outputs": [
    {
     "name": "stdout",
     "output_type": "stream",
     "text": [
      "n\n"
     ]
    }
   ],
   "source": [
    "print('n')"
   ]
  },
  {
   "cell_type": "code",
   "execution_count": 21,
   "metadata": {},
   "outputs": [
    {
     "name": "stdout",
     "output_type": "stream",
     "text": [
      "10\n"
     ]
    }
   ],
   "source": [
    "n = 3+7\n",
    "print(n)"
   ]
  },
  {
   "cell_type": "code",
   "execution_count": 1,
   "metadata": {},
   "outputs": [
    {
     "name": "stdout",
     "output_type": "stream",
     "text": [
      "1\n",
      "2\n"
     ]
    }
   ],
   "source": [
    "x=1\n",
    "print(x)\n",
    "x = x+1\n",
    "print(x)"
   ]
  },
  {
   "cell_type": "code",
   "execution_count": 4,
   "metadata": {},
   "outputs": [
    {
     "name": "stdout",
     "output_type": "stream",
     "text": [
      "서울시\n",
      "서울시출신\n",
      "나는서울출신입니다\n"
     ]
    }
   ],
   "source": [
    "p=\"서울\"+\"시\"\n",
    "print(p)\n",
    "print(p + \"출신\")\n",
    "\n",
    "p=\"서울\"\n",
    "print(\"나는\" + p + \"출신입니다\")"
   ]
  },
  {
   "cell_type": "code",
   "execution_count": 6,
   "metadata": {},
   "outputs": [
    {
     "ename": "TypeError",
     "evalue": "can only concatenate str (not \"int\") to str",
     "output_type": "error",
     "traceback": [
      "\u001b[1;31m---------------------------------------------------------------------------\u001b[0m",
      "\u001b[1;31mTypeError\u001b[0m                                 Traceback (most recent call last)",
      "\u001b[1;32m<ipython-input-6-4d3439f111b3>\u001b[0m in \u001b[0;36m<module>\u001b[1;34m\u001b[0m\n\u001b[0;32m      1\u001b[0m \u001b[0mheight\u001b[0m \u001b[1;33m=\u001b[0m \u001b[1;36m177\u001b[0m\u001b[1;33m\u001b[0m\u001b[1;33m\u001b[0m\u001b[0m\n\u001b[1;32m----> 2\u001b[1;33m \u001b[0mprint\u001b[0m\u001b[1;33m(\u001b[0m\u001b[1;34m\"신장은 \"\u001b[0m \u001b[1;33m+\u001b[0m \u001b[0mheight\u001b[0m \u001b[1;33m+\u001b[0m \u001b[1;34m\"cm입니다\"\u001b[0m\u001b[1;33m)\u001b[0m\u001b[1;33m\u001b[0m\u001b[1;33m\u001b[0m\u001b[0m\n\u001b[0m",
      "\u001b[1;31mTypeError\u001b[0m: can only concatenate str (not \"int\") to str"
     ]
    }
   ],
   "source": [
    "height = 177\n",
    "print(\"신장은 \" + height + \"cm입니다\")"
   ]
  },
  {
   "cell_type": "code",
   "execution_count": 8,
   "metadata": {},
   "outputs": [
    {
     "ename": "NameError",
     "evalue": "name 'h' is not defined",
     "output_type": "error",
     "traceback": [
      "\u001b[1;31m---------------------------------------------------------------------------\u001b[0m",
      "\u001b[1;31mNameError\u001b[0m                                 Traceback (most recent call last)",
      "\u001b[1;32m<ipython-input-8-599dfd6c7642>\u001b[0m in \u001b[0;36m<module>\u001b[1;34m\u001b[0m\n\u001b[1;32m----> 1\u001b[1;33m \u001b[0mtype\u001b[0m\u001b[1;33m(\u001b[0m\u001b[0mh\u001b[0m\u001b[1;33m)\u001b[0m\u001b[1;33m\u001b[0m\u001b[1;33m\u001b[0m\u001b[0m\n\u001b[0m\u001b[0;32m      2\u001b[0m \u001b[0mtype\u001b[0m\u001b[1;33m(\u001b[0m\u001b[0mw\u001b[0m\u001b[1;33m)\u001b[0m\u001b[1;33m\u001b[0m\u001b[1;33m\u001b[0m\u001b[0m\n\u001b[0;32m      3\u001b[0m \u001b[0mbmi\u001b[0m \u001b[1;33m=\u001b[0m \u001b[0mw\u001b[0m\u001b[1;33m/\u001b[0m\u001b[1;33m(\u001b[0m\u001b[0mh\u001b[0m\u001b[1;33m*\u001b[0m\u001b[1;36m2\u001b[0m\u001b[1;33m)\u001b[0m\u001b[1;33m\u001b[0m\u001b[1;33m\u001b[0m\u001b[0m\n\u001b[0;32m      4\u001b[0m \u001b[0mtype\u001b[0m\u001b[1;33m(\u001b[0m\u001b[0mbmi\u001b[0m\u001b[1;33m)\u001b[0m\u001b[1;33m\u001b[0m\u001b[1;33m\u001b[0m\u001b[0m\n",
      "\u001b[1;31mNameError\u001b[0m: name 'h' is not defined"
     ]
    }
   ],
   "source": [
    "type(h)\n",
    "type(w)\n",
    "bmi = w/(h*2)\n",
    "type(bmi)"
   ]
  },
  {
   "cell_type": "code",
   "execution_count": 11,
   "metadata": {},
   "outputs": [
    {
     "name": "stdout",
     "output_type": "stream",
     "text": [
      "20.761245674740486\n"
     ]
    }
   ],
   "source": [
    "h = 1.7\n",
    "w = 60\n",
    "type(h)\n",
    "type(w)\n",
    "bmi = w/(h**2)\n",
    "type(bmi)\n",
    "print(bmi)"
   ]
  },
  {
   "cell_type": "code",
   "execution_count": 13,
   "metadata": {},
   "outputs": [
    {
     "name": "stdout",
     "output_type": "stream",
     "text": [
      "신장은 177cm입니다\n"
     ]
    }
   ],
   "source": [
    "h = 177\n",
    "print(\"신장은 \" + str(177) + \"cm입니다\")"
   ]
  },
  {
   "cell_type": "code",
   "execution_count": 15,
   "metadata": {},
   "outputs": [
    {
     "name": "stdout",
     "output_type": "stream",
     "text": [
      "hi!hi!\n"
     ]
    }
   ],
   "source": [
    "greeting = \"hi!\"\n",
    "print(greeting * 2)\n"
   ]
  },
  {
   "cell_type": "code",
   "execution_count": 17,
   "metadata": {},
   "outputs": [
    {
     "name": "stdout",
     "output_type": "stream",
     "text": [
      "False\n"
     ]
    }
   ],
   "source": [
    "print(1+1 == 3)"
   ]
  },
  {
   "cell_type": "code",
   "execution_count": 19,
   "metadata": {},
   "outputs": [
    {
     "name": "stdout",
     "output_type": "stream",
     "text": [
      "True\n"
     ]
    }
   ],
   "source": [
    "print(6+4 != -10)"
   ]
  },
  {
   "cell_type": "code",
   "execution_count": 22,
   "metadata": {},
   "outputs": [
    {
     "name": "stdout",
     "output_type": "stream",
     "text": [
      "당신은 2번째로 도착하셨습니다.\n"
     ]
    }
   ],
   "source": [
    "n = 2\n",
    "if n == 2:\n",
    "    print(\"당신은 \" + str(n) + \"번째로 도착하셨습니다.\")"
   ]
  },
  {
   "cell_type": "code",
   "execution_count": 24,
   "metadata": {},
   "outputs": [
    {
     "name": "stdout",
     "output_type": "stream",
     "text": [
      "고양이가 귀엽네요.\n"
     ]
    }
   ],
   "source": [
    "animal = \"cat\"\n",
    "if animal == \"cat\":\n",
    "    print(\"고양이가 귀엽네요.\")"
   ]
  },
  {
   "cell_type": "code",
   "execution_count": 26,
   "metadata": {},
   "outputs": [
    {
     "ename": "IndentationError",
     "evalue": "unexpected indent (<ipython-input-26-62677cbaba56>, line 2)",
     "output_type": "error",
     "traceback": [
      "\u001b[1;36m  File \u001b[1;32m\"<ipython-input-26-62677cbaba56>\"\u001b[1;36m, line \u001b[1;32m2\u001b[0m\n\u001b[1;33m    if n>15:\u001b[0m\n\u001b[1;37m    ^\u001b[0m\n\u001b[1;31mIndentationError\u001b[0m\u001b[1;31m:\u001b[0m unexpected indent\n"
     ]
    }
   ],
   "source": [
    "n = 16\n",
    "    if n>15:\n",
    "        print(\"큰 숫자\")"
   ]
  },
  {
   "cell_type": "code",
   "execution_count": 28,
   "metadata": {},
   "outputs": [
    {
     "name": "stdout",
     "output_type": "stream",
     "text": [
      "큰 숫자\n"
     ]
    }
   ],
   "source": [
    "n = 16\n",
    "if n>15:\n",
    "    print(\"큰 숫자\")"
   ]
  },
  {
   "cell_type": "code",
   "execution_count": 29,
   "metadata": {},
   "outputs": [
    {
     "name": "stdout",
     "output_type": "stream",
     "text": [
      "아쉽습니다...\n"
     ]
    }
   ],
   "source": [
    "n = 2\n",
    "if n == 1:\n",
    "    print(\"우승을 축하합니다\")\n",
    "else:\n",
    "    print(\"아쉽습니다...\")"
   ]
  },
  {
   "cell_type": "code",
   "execution_count": 32,
   "metadata": {},
   "outputs": [
    {
     "name": "stdout",
     "output_type": "stream",
     "text": [
      "작은 숫자\n"
     ]
    }
   ],
   "source": [
    "n = 14\n",
    "if n>15:\n",
    "    print(\"큰 숫자\")\n",
    "else:\n",
    "    print(\"작은 숫자\")"
   ]
  },
  {
   "cell_type": "code",
   "execution_count": 34,
   "metadata": {},
   "outputs": [
    {
     "name": "stdout",
     "output_type": "stream",
     "text": [
      "은메달\n"
     ]
    }
   ],
   "source": [
    "number = 2\n",
    "\n",
    "if number == 1:\n",
    "    print(\"금메달\")\n",
    "elif number == 2:\n",
    "    print(\"은메달\")\n",
    "elif number == 3:\n",
    "    print(\"동메달\")\n",
    "else:\n",
    "    print(\"아쉽습니다.\")"
   ]
  },
  {
   "cell_type": "code",
   "execution_count": 37,
   "metadata": {},
   "outputs": [
    {
     "name": "stdout",
     "output_type": "stream",
     "text": [
      "중간 숫자\n"
     ]
    }
   ],
   "source": [
    "n = 14\n",
    "\n",
    "if n>=15:\n",
    "    print(\"큰 숫자\")\n",
    "elif n<=11:\n",
    "    print(\"작은 숫자\")\n",
    "else:\n",
    "    print(\"중간 숫자\")"
   ]
  },
  {
   "cell_type": "code",
   "execution_count": 41,
   "metadata": {},
   "outputs": [
    {
     "name": "stdout",
     "output_type": "stream",
     "text": [
      "False\n",
      "True\n"
     ]
    }
   ],
   "source": [
    "n_1 = 14\n",
    "n_2 = 28\n",
    "\n",
    "print(n_1 > 8 and n_1 < 14)\n",
    "print(not (n_1 ** 2) < (n_2*5))"
   ]
  },
  {
   "cell_type": "code",
   "execution_count": 44,
   "metadata": {},
   "outputs": [
    {
     "name": "stdout",
     "output_type": "stream",
     "text": [
      "2000 년은 윤년입니다.\n"
     ]
    }
   ],
   "source": [
    "y = 2000\n",
    "\n",
    "if y%400 != 0 and y%100 == 0:\n",
    "    print(str(y) + \" 년은 평년입니다\")\n",
    "elif y%4 == 0:\n",
    "    print(str(y) + \" 년은 윤년입니다.\")\n",
    "else:\n",
    "    print(str(y) + \" 년은 평년입니다.\")\n"
   ]
  },
  {
   "cell_type": "code",
   "execution_count": 5,
   "metadata": {},
   "outputs": [
    {
     "ename": "SyntaxError",
     "evalue": "unexpected EOF while parsing (<ipython-input-5-1a4b158fe48a>, line 3)",
     "output_type": "error",
     "traceback": [
      "\u001b[1;36m  File \u001b[1;32m\"<ipython-input-5-1a4b158fe48a>\"\u001b[1;36m, line \u001b[1;32m3\u001b[0m\n\u001b[1;33m    \u001b[0m\n\u001b[1;37m    ^\u001b[0m\n\u001b[1;31mSyntaxError\u001b[0m\u001b[1;31m:\u001b[0m unexpected EOF while parsing\n"
     ]
    }
   ],
   "source": [
    " #3+8의 결과를 출력합니다\n",
    "print(3+8\n",
    "      "
   ]
  },
  {
   "cell_type": "code",
   "execution_count": 8,
   "metadata": {},
   "outputs": [
    {
     "name": "stdout",
     "output_type": "stream",
     "text": [
      "나는 서울에 삽니다.\n"
     ]
    }
   ],
   "source": [
    "p = '서울'\n",
    "print(\"나는 \" + p + \"에 삽니다.\")"
   ]
  },
  {
   "cell_type": "code",
   "execution_count": 11,
   "metadata": {},
   "outputs": [
    {
     "name": "stdout",
     "output_type": "stream",
     "text": [
      "<class 'float'>\n",
      "<class 'int'>\n",
      "20.761245674740486\n",
      "<class 'float'>\n"
     ]
    }
   ],
   "source": [
    "h = 1.7\n",
    "w = 60\n",
    "\n",
    "#변수 h,w의 자료형을 출력하세요\n",
    "print(type(h))\n",
    "print(type(w))\n",
    "\n",
    "#변수 bmi에 비만도 지수 결과를 대입하세요\n",
    "bmi = w / (h**2)\n",
    "print(bmi)\n",
    "print(type(bmi))"
   ]
  },
  {
   "cell_type": "code",
   "execution_count": 13,
   "metadata": {},
   "outputs": [
    {
     "name": "stdout",
     "output_type": "stream",
     "text": [
      "당신의 bmi는 20.761245674740486\n"
     ]
    }
   ],
   "source": [
    "h = 1.7\n",
    "w = 60\n",
    "bmi = w / h**2\n",
    "\n",
    "print(\"당신의 bmi는 \" + str(bmi))"
   ]
  },
  {
   "cell_type": "code",
   "execution_count": 14,
   "metadata": {},
   "outputs": [
    {
     "name": "stdout",
     "output_type": "stream",
     "text": [
      "\n"
     ]
    }
   ],
   "source": [
    "print()"
   ]
  },
  {
   "cell_type": "code",
   "execution_count": 16,
   "metadata": {},
   "outputs": [
    {
     "name": "stdout",
     "output_type": "stream",
     "text": [
      "True\n"
     ]
    }
   ],
   "source": [
    "print(4+6 != -10)"
   ]
  },
  {
   "cell_type": "code",
   "execution_count": 19,
   "metadata": {},
   "outputs": [
    {
     "name": "stdout",
     "output_type": "stream",
     "text": [
      "큰 숫자\n"
     ]
    }
   ],
   "source": [
    "n = 16\n",
    "if(n > 15):\n",
    "    print(\"큰 숫자\")"
   ]
  },
  {
   "cell_type": "code",
   "execution_count": 21,
   "metadata": {},
   "outputs": [
    {
     "name": "stdout",
     "output_type": "stream",
     "text": [
      "고양이가 귀엽네요\n"
     ]
    }
   ],
   "source": [
    "animal = \"cat\"\n",
    "if animal == \"cat\":\n",
    "    print(\"고양이가 귀엽네요\")\n",
    "else:\n",
    "    print(\"고양이가 아니네요\")"
   ]
  },
  {
   "cell_type": "code",
   "execution_count": 23,
   "metadata": {},
   "outputs": [
    {
     "name": "stdout",
     "output_type": "stream",
     "text": [
      "2등입니다\n"
     ]
    }
   ],
   "source": [
    "number = 2\n",
    "\n",
    "if number == 1:\n",
    "    print(\"1등입니다\")\n",
    "elif number == 2:\n",
    "    print(\"2등입니다\")\n",
    "elif number== 3:\n",
    "    print(\"3등입니다\")\n",
    "else:\n",
    "    print(\"탈락입니다...\")"
   ]
  },
  {
   "cell_type": "code",
   "execution_count": 25,
   "metadata": {},
   "outputs": [
    {
     "name": "stdout",
     "output_type": "stream",
     "text": [
      "중간 숫자\n"
     ]
    }
   ],
   "source": [
    "n = 14\n",
    "\n",
    "if n>15:\n",
    "    print(\"큰 숫자\")\n",
    "elif n>=11:\n",
    "    print(\"중간 숫자\")\n",
    "else:\n",
    "    print(\"작은 숫자\")"
   ]
  },
  {
   "cell_type": "code",
   "execution_count": 27,
   "metadata": {},
   "outputs": [
    {
     "name": "stdout",
     "output_type": "stream",
     "text": [
      "False\n",
      "True\n"
     ]
    }
   ],
   "source": [
    "n_1 = 14\n",
    "n_2 = 28\n",
    "\n",
    "print(n_1 > 8 and n_1 < 14)\n",
    "\n",
    "print(not n_1**2 < n_2*5)"
   ]
  },
  {
   "cell_type": "code",
   "execution_count": 31,
   "metadata": {},
   "outputs": [
    {
     "name": "stdout",
     "output_type": "stream",
     "text": [
      "2022은 평년입니다\n"
     ]
    }
   ],
   "source": [
    "year = 2022\n",
    "\n",
    "if(year%400 != 0 and year%100 == 0):\n",
    "    print(str(year) + \"은 평년입니다\")\n",
    "elif(year%4 == 0):\n",
    "    print(str(year) + \"은 윤년입니다\")\n",
    "else:\n",
    "    print(str(year) + \"은 평년입니다\")"
   ]
  },
  {
   "cell_type": "code",
   "execution_count": 33,
   "metadata": {},
   "outputs": [
    {
     "name": "stdout",
     "output_type": "stream",
     "text": [
      "['red', 'blue', 'yellow']\n"
     ]
    }
   ],
   "source": [
    "c = [\"red\", \"blue\", \"yellow\"]\n",
    "print(c)"
   ]
  },
  {
   "cell_type": "code",
   "execution_count": 35,
   "metadata": {},
   "outputs": [
    {
     "name": "stdout",
     "output_type": "stream",
     "text": [
      "['사과', 3, '고릴라']\n"
     ]
    }
   ],
   "source": [
    "n = 3\n",
    "print([\"사과\", n, \"고릴라\"])"
   ]
  },
  {
   "cell_type": "code",
   "execution_count": 37,
   "metadata": {},
   "outputs": [
    {
     "name": "stdout",
     "output_type": "stream",
     "text": [
      "[4, 3, 6]\n"
     ]
    }
   ],
   "source": [
    "apple = 4\n",
    "grape = 3\n",
    "banana = 6\n",
    "\n",
    "fruits = [apple, grape, banana]\n",
    "\n",
    "print(fruits)"
   ]
  },
  {
   "cell_type": "code",
   "execution_count": 39,
   "metadata": {},
   "outputs": [
    {
     "name": "stdout",
     "output_type": "stream",
     "text": [
      "[[1, 2], [3, 4], [5, 6]]\n"
     ]
    }
   ],
   "source": [
    "print([[1,2],[3,4],[5,6]])"
   ]
  },
  {
   "cell_type": "code",
   "execution_count": 41,
   "metadata": {},
   "outputs": [
    {
     "name": "stdout",
     "output_type": "stream",
     "text": [
      "[['사과', 2], ['귤', 10]]\n"
     ]
    }
   ],
   "source": [
    "fruits_name_1 = \"사과\"\n",
    "fruits_num_1 = 2\n",
    "fruits_name_2 = \"귤\"\n",
    "fruits_num_2 = 10\n",
    "\n",
    "fruits = [[fruits_name_1, fruits_num_1], [fruits_name_2, fruits_num_2]]\n",
    "\n",
    "print(fruits)"
   ]
  },
  {
   "cell_type": "code",
   "execution_count": 43,
   "metadata": {},
   "outputs": [
    {
     "name": "stdout",
     "output_type": "stream",
     "text": [
      "2\n",
      "3\n"
     ]
    }
   ],
   "source": [
    "a = [1,2,3,4]\n",
    "print(a[1])\n",
    "print(a[-2])"
   ]
  },
  {
   "cell_type": "code",
   "execution_count": 45,
   "metadata": {},
   "outputs": [
    {
     "name": "stdout",
     "output_type": "stream",
     "text": [
      "2\n",
      "1\n"
     ]
    }
   ],
   "source": [
    "fruits = [\"apple\", 2, \"orange\", 4, \"grape\", 3, \"banana\", 1]\n",
    "\n",
    "#두번째 요소\n",
    "print(fruits[1])\n",
    "\n",
    "#마지막 요소\n",
    "print(fruits[-1])"
   ]
  },
  {
   "cell_type": "code",
   "execution_count": 47,
   "metadata": {},
   "outputs": [
    {
     "name": "stdout",
     "output_type": "stream",
     "text": [
      "['b', 'c', 'd', 'e']\n",
      "['b', 'c', 'd', 'e']\n",
      "['a', 'b', 'c', 'd', 'e']\n",
      "['g', 'h', 'i', 'j']\n",
      "['a', 'b', 'c', 'd', 'e', 'f', 'g', 'h', 'i', 'j']\n"
     ]
    }
   ],
   "source": [
    "alphabet = [\"a\", \"b\", \"c\", \"d\", \"e\", \"f\", \"g\", \"h\", \"i\", \"j\"]\n",
    "print(alphabet[1:5])\n",
    "print(alphabet[1:-5])\n",
    "print(alphabet[:5])\n",
    "print(alphabet[6:])\n",
    "print(alphabet[0:20])"
   ]
  },
  {
   "cell_type": "code",
   "execution_count": 49,
   "metadata": {},
   "outputs": [
    {
     "name": "stdout",
     "output_type": "stream",
     "text": [
      "['apple', 2, 'orange', 4, 'grape', 3, 'banana', 1]\n"
     ]
    }
   ],
   "source": [
    "chaos = [\"cat\", \"apple\", 2, \"orange\", 4, \"grape\", 3, \"banana\", 1, \"elephant\", \"dog\"]\n",
    "\n",
    "fruit = chaos[1:9]\n",
    "\n",
    "print(fruit)"
   ]
  },
  {
   "cell_type": "code",
   "execution_count": 52,
   "metadata": {},
   "outputs": [
    {
     "name": "stdout",
     "output_type": "stream",
     "text": [
      "['A', 'B', 'C', 'd', 'e']\n",
      "['A', 'B', 'C', 'd', 'e', 'f', 'g', 'h', 'i']\n"
     ]
    }
   ],
   "source": [
    "alphabet = [\"a\", \"b\", \"c\", \"d\", \"e\"]\n",
    "alphabet[0] = \"A\"\n",
    "alphabet[1:3] = [\"B\", \"C\"]\n",
    "print(alphabet)\n",
    "\n",
    "alphabet = alphabet + [\"f\"]\n",
    "alphabet += [\"g\", \"h\"]\n",
    "alphabet.append(\"i\")\n",
    "print(alphabet)"
   ]
  },
  {
   "cell_type": "code",
   "execution_count": 54,
   "metadata": {},
   "outputs": [
    {
     "name": "stdout",
     "output_type": "stream",
     "text": [
      "['red', 'blue', 'yellow', 'green']\n"
     ]
    }
   ],
   "source": [
    "c = [\"dog\", \"blue\", \"yellow\"]\n",
    "\n",
    "c[0] = \"red\"\n",
    "\n",
    "c.append(\"green\")\n",
    "\n",
    "print(c)"
   ]
  },
  {
   "cell_type": "code",
   "execution_count": 56,
   "metadata": {},
   "outputs": [
    {
     "name": "stdout",
     "output_type": "stream",
     "text": [
      "['b', 'c']\n"
     ]
    }
   ],
   "source": [
    "alphabet = [\"a\", \"b\", \"c\", \"d\", \"e\"]\n",
    "\n",
    "del alphabet[3:]\n",
    "del alphabet[0]\n",
    "print(alphabet)"
   ]
  },
  {
   "cell_type": "code",
   "execution_count": 59,
   "metadata": {},
   "outputs": [
    {
     "name": "stdout",
     "output_type": "stream",
     "text": [
      "['dog', 'blue', 'yellow']\n",
      "['blue', 'yellow']\n"
     ]
    }
   ],
   "source": [
    "c = [\"dog\", \"blue\", \"yellow\"]\n",
    "print(c)\n",
    "\n",
    "del c[0]\n",
    "\n",
    "print(c)"
   ]
  },
  {
   "cell_type": "code",
   "execution_count": 62,
   "metadata": {},
   "outputs": [
    {
     "name": "stdout",
     "output_type": "stream",
     "text": [
      "['A', 'b', 'c']\n"
     ]
    }
   ],
   "source": [
    "alphabet = [\"a\", \"b\", \"c\"]\n",
    "alphabet_copy = alphabet\n",
    "alphabet_copy[0] = \"A\"\n",
    "print(alphabet)"
   ]
  },
  {
   "cell_type": "code",
   "execution_count": 64,
   "metadata": {},
   "outputs": [
    {
     "name": "stdout",
     "output_type": "stream",
     "text": [
      "['a', 'b', 'c']\n"
     ]
    }
   ],
   "source": [
    "alphabet = [\"a\", \"b\", \"c\"]\n",
    "alphabet_copy = alphabet[:]\n",
    "alphabet_copy[0] = \"A\"\n",
    "print(alphabet)"
   ]
  },
  {
   "cell_type": "code",
   "execution_count": 66,
   "metadata": {},
   "outputs": [
    {
     "name": "stdout",
     "output_type": "stream",
     "text": [
      "['red', 'blue', 'yellow']\n"
     ]
    }
   ],
   "source": [
    "c = [\"red\", \"blue\", \"yellow\"]\n",
    "\n",
    "c_copy = c[:]\n",
    "\n",
    "c_copy[1] = \"green\"\n",
    "\n",
    "print(c)\n"
   ]
  },
  {
   "cell_type": "code",
   "execution_count": 67,
   "metadata": {},
   "outputs": [
    {
     "ename": "SyntaxError",
     "evalue": "EOL while scanning string literal (<ipython-input-67-815e785e5163>, line 1)",
     "output_type": "error",
     "traceback": [
      "\u001b[1;36m  File \u001b[1;32m\"<ipython-input-67-815e785e5163>\"\u001b[1;36m, line \u001b[1;32m1\u001b[0m\n\u001b[1;33m    dic = {\"Japan\" : \"Tokyp}\u001b[0m\n\u001b[1;37m                            ^\u001b[0m\n\u001b[1;31mSyntaxError\u001b[0m\u001b[1;31m:\u001b[0m EOL while scanning string literal\n"
     ]
    }
   ],
   "source": [
    "dic = {\"Japan\" : \"Tokyp}"
   ]
  },
  {
   "cell_type": "code",
   "execution_count": 69,
   "metadata": {},
   "outputs": [
    {
     "name": "stdout",
     "output_type": "stream",
     "text": [
      "{'Japan': 'Tokyo', 'Korea': 'Seoul'}\n"
     ]
    }
   ],
   "source": [
    "dic = {\"Japan\" : \"Tokyo\", \"Korea\" : \"Seoul\"}\n",
    "print(dic)\n"
   ]
  },
  {
   "cell_type": "code",
   "execution_count": 72,
   "metadata": {},
   "outputs": [
    {
     "name": "stdout",
     "output_type": "stream",
     "text": [
      "{'경기도': '수원', '서울': '중구'}\n"
     ]
    }
   ],
   "source": [
    "town = {\"경기도\" : \"수원\", \"서울\" : \"중구\"}\n",
    "print(town)"
   ]
  },
  {
   "cell_type": "code",
   "execution_count": 75,
   "metadata": {},
   "outputs": [
    {
     "name": "stdout",
     "output_type": "stream",
     "text": [
      "경기도의 중심 도시는 수원\n"
     ]
    }
   ],
   "source": [
    "town = {\"경기도\" : \"수원\", \"서울\" : \"중구\"}\n",
    "\n",
    "print(\"경기도의 중심 도시는 \" + town[\"경기도\"])"
   ]
  },
  {
   "cell_type": "code",
   "execution_count": 77,
   "metadata": {},
   "outputs": [
    {
     "name": "stdout",
     "output_type": "stream",
     "text": [
      "{'Japan': 'Tokyo', 'Korea': 'Seoul', 'China': 'Beijin'}\n"
     ]
    }
   ],
   "source": [
    "dic = {\"Japan\" : \"Tokyo\", \"Korea\" : \"Soul\"}\n",
    "dic[\"Korea\"] = \"Seoul\"\n",
    "dic[\"China\"] = \"Beijin\"\n",
    "print(dic)"
   ]
  },
  {
   "cell_type": "code",
   "execution_count": 80,
   "metadata": {},
   "outputs": [
    {
     "name": "stdout",
     "output_type": "stream",
     "text": [
      "{'서울': '중구', '제주도': '제주시'}\n"
     ]
    }
   ],
   "source": [
    "town = {\"경기도\" : \"수원\", \"서울\" : \"중구\"}\n",
    "\n",
    "town[\"제주도\"] = \"제주시\"\n",
    "\n",
    "town[\"경기도\"] = \"분당\"\n",
    "\n",
    "del town[\"경기도\"]\n",
    "\n",
    "print(town)"
   ]
  },
  {
   "cell_type": "code",
   "execution_count": 2,
   "metadata": {},
   "outputs": [
    {
     "name": "stdout",
     "output_type": "stream",
     "text": [
      "2\n",
      "1\n"
     ]
    }
   ],
   "source": [
    "n = 2\n",
    "while n > 0:\n",
    "    print(n)\n",
    "    n-=1"
   ]
  },
  {
   "cell_type": "code",
   "execution_count": 11,
   "metadata": {},
   "outputs": [
    {
     "name": "stdout",
     "output_type": "stream",
     "text": [
      "4\n",
      "3\n",
      "2\n",
      "1\n",
      "0\n",
      "Bang\n"
     ]
    }
   ],
   "source": [
    "x = 5\n",
    "while x != 0:\n",
    "    x -= 1\n",
    "    print(x)\n",
    "if x==0:\n",
    "    print(\"Bang\")"
   ]
  },
  {
   "cell_type": "code",
   "execution_count": 13,
   "metadata": {},
   "outputs": [
    {
     "name": "stdout",
     "output_type": "stream",
     "text": [
      "4\n",
      "3\n",
      "2\n",
      "1\n",
      "Bang\n"
     ]
    }
   ],
   "source": [
    "x=5\n",
    "while x !=0:\n",
    "    x-=1\n",
    "    if x != 0:\n",
    "        print(x)\n",
    "    else:\n",
    "        print(\"Bang\")"
   ]
  },
  {
   "cell_type": "code",
   "execution_count": null,
   "metadata": {},
   "outputs": [],
   "source": []
  },
  {
   "cell_type": "code",
   "execution_count": 15,
   "metadata": {},
   "outputs": [
    {
     "name": "stdout",
     "output_type": "stream",
     "text": [
      "tiger\n",
      "dog\n",
      "elephant\n"
     ]
    }
   ],
   "source": [
    "animals = [\"tiger\", \"dog\", \"elephant\"]\n",
    "for animal in animals:\n",
    "    print(animal)"
   ]
  },
  {
   "cell_type": "code",
   "execution_count": 17,
   "metadata": {},
   "outputs": [
    {
     "name": "stdout",
     "output_type": "stream",
     "text": [
      "1\n",
      "2\n",
      "3\n",
      "4\n"
     ]
    }
   ],
   "source": [
    "storages = [1,2,3,4]\n",
    "\n",
    "for storage in storages:\n",
    "    print(storage)"
   ]
  },
  {
   "cell_type": "code",
   "execution_count": 18,
   "metadata": {},
   "outputs": [
    {
     "name": "stdout",
     "output_type": "stream",
     "text": [
      "1\n",
      "2\n",
      "3\n",
      "4\n",
      "5\n",
      "끝\n"
     ]
    }
   ],
   "source": [
    "storages = [1,2,3,4,5,6,7,8,9,10]\n",
    "for n in storages:\n",
    "    print(n)\n",
    "    if n >= 5:\n",
    "        print(\"끝\")\n",
    "        break"
   ]
  },
  {
   "cell_type": "code",
   "execution_count": 20,
   "metadata": {},
   "outputs": [
    {
     "name": "stdout",
     "output_type": "stream",
     "text": [
      "1\n",
      "2\n",
      "3\n",
      "4\n"
     ]
    }
   ],
   "source": [
    "storages = [1,2,3,4,5,6]\n",
    "for n in storages:\n",
    "    print(n)\n",
    "    if n == 4:\n",
    "        break"
   ]
  },
  {
   "cell_type": "code",
   "execution_count": 22,
   "metadata": {},
   "outputs": [
    {
     "name": "stdout",
     "output_type": "stream",
     "text": [
      "1\n",
      "3\n"
     ]
    }
   ],
   "source": [
    "storages = [1,2,3]\n",
    "for n in storages:\n",
    "    if n == 2:\n",
    "        continue\n",
    "    print(n)"
   ]
  },
  {
   "cell_type": "code",
   "execution_count": 24,
   "metadata": {},
   "outputs": [
    {
     "name": "stdout",
     "output_type": "stream",
     "text": [
      "1\n",
      "3\n",
      "5\n"
     ]
    }
   ],
   "source": [
    "storages = [1,2,3,4,5,6]\n",
    "\n",
    "for n in storages:\n",
    "    if n%2 == 0:\n",
    "        continue\n",
    "    print(n)"
   ]
  },
  {
   "cell_type": "code",
   "execution_count": 27,
   "metadata": {},
   "outputs": [
    {
     "name": "stdout",
     "output_type": "stream",
     "text": [
      "0 a\n",
      "1 b\n"
     ]
    }
   ],
   "source": [
    "list = [\"a\", \"b\"]\n",
    "for index, value in enumerate(list):\n",
    "    print(index, value)"
   ]
  },
  {
   "cell_type": "code",
   "execution_count": 30,
   "metadata": {},
   "outputs": [
    {
     "name": "stdout",
     "output_type": "stream",
     "text": [
      "0 tiger\n",
      "1 dog\n",
      "2 elephant\n"
     ]
    }
   ],
   "source": [
    "animals = [\"tiger\", \"dog\", \"elephant\"]\n",
    "for index, value in enumerate(animals):\n",
    "    print(index, value)"
   ]
  },
  {
   "cell_type": "code",
   "execution_count": 32,
   "metadata": {},
   "outputs": [
    {
     "name": "stdout",
     "output_type": "stream",
     "text": [
      "1 2 3\n",
      "4 5 6\n"
     ]
    }
   ],
   "source": [
    "list = [[1,2,3],[4,5,6]]\n",
    "for a, b, c in list:\n",
    "    print(a,b,c)"
   ]
  },
  {
   "cell_type": "code",
   "execution_count": 37,
   "metadata": {},
   "outputs": [
    {
     "name": "stdout",
     "output_type": "stream",
     "text": [
      "strawberry is red\n",
      "peach is pink\n",
      "banana is yellow\n"
     ]
    }
   ],
   "source": [
    "fruits = [[\"strawberry\", \"red\"],\n",
    "         [\"peach\", \"pink\"],\n",
    "         [\"banana\", \"yellow\"]]\n",
    "for a,b in fruits:\n",
    "    print(a + \" is \" + b)"
   ]
  },
  {
   "cell_type": "code",
   "execution_count": 40,
   "metadata": {},
   "outputs": [
    {
     "name": "stdout",
     "output_type": "stream",
     "text": [
      "strawberry is red\n",
      "peach is pink\n",
      "banana is yellow\n"
     ]
    }
   ],
   "source": [
    "fruits = {\"strawberry\" : \"red\", \"peach\" : \"pink\", \"banana\" : \"yellow\"}\n",
    "for fruits, color in fruits.items():\n",
    "    print(fruits + \" is \" + color)"
   ]
  },
  {
   "cell_type": "code",
   "execution_count": 42,
   "metadata": {},
   "outputs": [
    {
     "name": "stdout",
     "output_type": "stream",
     "text": [
      "경기도 분당\n",
      "서울 중구\n",
      "제주도 제주시\n"
     ]
    }
   ],
   "source": [
    "town = {\"경기도\" : \"분당\", \"서울\" : \"중구\", \"제주도\" : \"제주시\"}\n",
    "for tw, city in town.items():\n",
    "    print(tw, city)"
   ]
  },
  {
   "cell_type": "code",
   "execution_count": 7,
   "metadata": {},
   "outputs": [
    {
     "name": "stdout",
     "output_type": "stream",
     "text": [
      "지우개(은)는 한 개에 100원이며 2개 구입합니다.\n",
      "펜(은)는 한 개에 200원이며 3개 구입합니다.\n",
      "노트(은)는 한 개에 400원이며 5개 구입합니다.\n",
      "지불해야 할 금액은 2000원입니다\n",
      "거스름돈은 18000원입니다\n"
     ]
    }
   ],
   "source": [
    "#상품의 가격과 개수, 지불 금액과 거스름돈을 표시하는 프로그램\n",
    "\n",
    "items = {\"지우개\" : [100, 2], \"펜\" : [200, 3], \"노트\" : [400,5]}\n",
    "total_price = 0\n",
    "\n",
    "for item in items:\n",
    "        print(item + \"(은)는 한 개에 \" + str(items[item][0]) + \"원이며 \" + str(items[item][1]) + \"개 구입합니다.\")\n",
    "\n",
    "total_price = items[item][0] * items[item][1]\n",
    "\n",
    "#지불해야 할 금액은 ** 원입니다\n",
    "print(\"지불해야 할 금액은 \" + str(total_price) + \"원입니다\")\n",
    "\n",
    "money = 20000\n",
    "\n",
    "if(money > total_price):\n",
    "    print(\"거스름돈은 \" + str(money - total_price) + \"원입니다\")\n",
    "elif(money == total_price):\n",
    "    print(\"거스름돈은 없습니다\")\n",
    "else:\n",
    "    print(\"돈이 부족합니다!!\")\n",
    "\n"
   ]
  },
  {
   "cell_type": "code",
   "execution_count": null,
   "metadata": {},
   "outputs": [],
   "source": []
  }
 ],
 "metadata": {
  "kernelspec": {
   "display_name": "Python 3",
   "language": "python",
   "name": "python3"
  },
  "language_info": {
   "codemirror_mode": {
    "name": "ipython",
    "version": 3
   },
   "file_extension": ".py",
   "mimetype": "text/x-python",
   "name": "python",
   "nbconvert_exporter": "python",
   "pygments_lexer": "ipython3",
   "version": "3.7.3"
  }
 },
 "nbformat": 4,
 "nbformat_minor": 2
}
