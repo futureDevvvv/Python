{
 "cells": [
  {
   "cell_type": "code",
   "execution_count": 2,
   "metadata": {},
   "outputs": [
    {
     "name": "stdout",
     "output_type": "stream",
     "text": [
      "[1, 2, 10, 20]\n"
     ]
    }
   ],
   "source": [
    "#The example of Class\n",
    "\n",
    "#one can save values\n",
    "mylist = [1, 10, 2, 20]\n",
    "\n",
    "#one can sort the saved value\n",
    "mylist.sort()\n",
    "\n",
    "#one can send it to methods and print the result\n",
    "print(mylist)"
   ]
  },
  {
   "cell_type": "code",
   "execution_count": 7,
   "metadata": {},
   "outputs": [],
   "source": [
    "class Myproduct:\n",
    "    \n",
    "    def __init__(self, name, price):\n",
    "        self.name = name\n",
    "        self.price = price\n",
    "        self.stock = 0\n",
    "        self.sales = 0\n",
    "        \n",
    "product1 = Myproduct(\"cake\", 500)"
   ]
  },
  {
   "cell_type": "code",
   "execution_count": 12,
   "metadata": {},
   "outputs": [
    {
     "name": "stdout",
     "output_type": "stream",
     "text": [
      "20\n"
     ]
    }
   ],
   "source": [
    "class MyProduct:\n",
    "    \n",
    "    def __init__(self, name, price, stock):\n",
    "        self.name = name\n",
    "        self.price = price\n",
    "        self.stock = stock\n",
    "        self.sales = 0\n",
    "\n",
    "product_1 = MyProduct(\"cake\", 500, 20)\n",
    "\n",
    "print(product_1.stock)"
   ]
  },
  {
   "cell_type": "code",
   "execution_count": 20,
   "metadata": {},
   "outputs": [
    {
     "name": "stdout",
     "output_type": "stream",
     "text": [
      "called summary().\n",
      " name: phone\n",
      " price: 25000\n",
      " stock: 100\n",
      " stock: 100\n",
      " sales: 0\n"
     ]
    }
   ],
   "source": [
    "class MyProduct:\n",
    "    def __init__(self, name, price, stock):\n",
    "        self.name = name\n",
    "        self.price = price\n",
    "        self.stock = stock\n",
    "        self.sales = 0\n",
    "    \n",
    "    def buy_up(self, n):\n",
    "        self.stock += n\n",
    "        \n",
    "    def sell(self, n):\n",
    "        self.stock -= n\n",
    "        self.sales += n*self.price\n",
    "        \n",
    "    def summary(self):\n",
    "        message = \"called summary().\\n name: \" + self.name + \\\n",
    "        \"\\n price: \" + str(self.price) + \\\n",
    "        \"\\n stock: \" + str(self.stock) + \\\n",
    "        \"\\n stock: \" + str(self.stock) + \\\n",
    "        \"\\n sales: \" + str(self.sales)\n",
    "        print(message)\n",
    "        \n",
    "    def get_name(self):\n",
    "        return self.name\n",
    "    \n",
    "    def discount(self, n):\n",
    "        self.price -= n\n",
    "        \n",
    "product_2 = MyProduct(\"phone\", 30000, 100)\n",
    "    \n",
    "product_2.discount(5000)\n",
    "    \n",
    "product_2.summary()\n",
    "    "
   ]
  },
  {
   "cell_type": "code",
   "execution_count": 32,
   "metadata": {},
   "outputs": [
    {
     "name": "stdout",
     "output_type": "stream",
     "text": [
      "phone(including tax)\n",
      "33000\n",
      "called summary_with_tax().\n",
      " name: phone\n",
      " price: 33000\n",
      " stock: 100\n",
      " stock: 100\n",
      " sales: 0\n"
     ]
    }
   ],
   "source": [
    "#Method Overriding\n",
    "\n",
    "class MyProductSalesTax(MyProduct):\n",
    "    \n",
    "    def __init__(self, name, price, stock, tax_rate):\n",
    "        \n",
    "        #super : call the methods of parent class.\n",
    "        super().__init__(name, price, stock)\n",
    "        self.tax_rate = tax_rate\n",
    "        \n",
    "    def get_name(self):\n",
    "        return self.name + \"(including tax)\"\n",
    "    \n",
    "    def get_price_with_tax(self):\n",
    "        return int(self.price * (1 + self.tax_rate))\n",
    "    \n",
    "    def summary_with_tax(self):\n",
    "        message = \"called summary_with_tax().\\n name: \" + self.name + \\\n",
    "        \"\\n price: \" + str(self.get_price_with_tax()+0) + \\\n",
    "        \"\\n stock: \" + str(self.stock) + \\\n",
    "        \"\\n stock: \" + str(self.stock) + \\\n",
    "        \"\\n sales: \" + str(self.sales)\n",
    "        print(message)\n",
    "\n",
    "product_3 = MyProductSalesTax(\"phone\", 30000, 100, 0.1)\n",
    "print(product_3.get_name())\n",
    "print(product_3.get_price_with_tax())\n",
    "product_3.summary_with_tax()\n",
    "        "
   ]
  },
  {
   "cell_type": "code",
   "execution_count": 34,
   "metadata": {},
   "outputs": [
    {
     "name": "stdout",
     "output_type": "stream",
     "text": [
      "pi is 3.141592\n",
      "pi is 3.14\n"
     ]
    }
   ],
   "source": [
    "#format\n",
    "\n",
    "pai = 3.141592\n",
    "\n",
    "print(\"pi is %f\" % pai)\n",
    "print(\"pi is %.2f\" % pai)"
   ]
  },
  {
   "cell_type": "code",
   "execution_count": 36,
   "metadata": {},
   "outputs": [
    {
     "name": "stdout",
     "output_type": "stream",
     "text": [
      "bmi는 35.1197입니다\n"
     ]
    }
   ],
   "source": [
    "def bmi(height, weight):\n",
    "    return weight / height**2\n",
    "\n",
    "print(\"bmi는 %.4f입니다\" % bmi(1.24, 54))"
   ]
  },
  {
   "cell_type": "code",
   "execution_count": 39,
   "metadata": {},
   "outputs": [
    {
     "name": "stdout",
     "output_type": "stream",
     "text": [
      "2\n",
      "4\n"
     ]
    }
   ],
   "source": [
    "def check_character(object, character):\n",
    "    return object.count(character)\n",
    "\n",
    "print(check_character([1, 2, 4, 5, 5, 3], 5))\n",
    "print(check_character(\"asdjalksdhlfkashflkas\", \"s\"))"
   ]
  },
  {
   "cell_type": "code",
   "execution_count": 42,
   "metadata": {},
   "outputs": [
    {
     "name": "stdout",
     "output_type": "stream",
     "text": [
      "10은(는) 7번째에 있습니다\n",
      "None\n"
     ]
    }
   ],
   "source": [
    "#binary_search\n",
    "\n",
    "def binary_search(numbers, target_number):\n",
    "    low = 0\n",
    "    \n",
    "    high = len(numbers)\n",
    "    \n",
    "    while low <= high:\n",
    "        middle = (low+high) //2\n",
    "        \n",
    "        if numbers[middle] == target_number:\n",
    "            print(\"{1}은(는) {0}번째에 있습니다\".format(middle, target_number))\n",
    "            \n",
    "            break\n",
    "        elif numbers[middle] < target_number:\n",
    "            low = middle + 1\n",
    "        else:\n",
    "            high = middle - 1\n",
    "\n",
    "numbers = [1, 2, 3, 5, 7, 8, 9, 10, 25, 366]\n",
    "target_number = 10\n",
    "\n",
    "print(binary_search(numbers, target_number))"
   ]
  }
 ],
 "metadata": {
  "kernelspec": {
   "display_name": "Python 3",
   "language": "python",
   "name": "python3"
  },
  "language_info": {
   "codemirror_mode": {
    "name": "ipython",
    "version": 3
   },
   "file_extension": ".py",
   "mimetype": "text/x-python",
   "name": "python",
   "nbconvert_exporter": "python",
   "pygments_lexer": "ipython3",
   "version": "3.7.3"
  }
 },
 "nbformat": 4,
 "nbformat_minor": 2
}
